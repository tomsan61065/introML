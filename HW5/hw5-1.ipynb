{
 "cells": [
  {
   "cell_type": "code",
   "execution_count": 86,
   "metadata": {
    "scrolled": true
   },
   "outputs": [],
   "source": [
    "import matplotlib.pyplot as plt\n",
    "import numpy as np\n",
    "import pandas as pd\n",
    "\n",
    "from sklearn.linear_model import LogisticRegression\n",
    "\n",
    "data = pd.read_csv(\"hw4_data.csv\") #使用 pandas 的方式讀取 CSV\n",
    "#print(data)\n",
    "#data.head()\n",
    "\n",
    "inputX = data[[\"Unnamed: 0\", \"w1 = 4\"]].to_numpy() #需要為 np.array 的形式!\n",
    "# X = data.loc[:, [\"Unnamed: 0\", \"w1 = 4\"]].values \n",
    "# X = data.iloc[:, [0, 2]].values\n",
    "#loc 與 iloc 差別在於 index 方式\n",
    "#產生出來的都還會是 dataframe，取 values 變成 np.array\n",
    "\n",
    "X = inputX\n",
    "inputY = []\n",
    "for element in data[\"w1 = 4\"]:\n",
    "    if element > 0.5:\n",
    "        inputY.append(1)\n",
    "    else:\n",
    "        inputY.append(0)\n",
    "        \n",
    "Y = np.array(inputY)\n",
    "# print(inputX)"
   ]
  },
  {
   "cell_type": "code",
   "execution_count": 87,
   "metadata": {
    "scrolled": true
   },
   "outputs": [
    {
     "name": "stdout",
     "output_type": "stream",
     "text": [
      "coefficient: [[28.72275346 29.79811067]]\n",
      "intercept: [-17.80397745]\n"
     ]
    }
   ],
   "source": [
    "# 選定所要使用的模型\n",
    "logreg = LogisticRegression(C=1e5, solver='lbfgs', multi_class='multinomial')\n",
    "\n",
    "# Train the model using the training sets\n",
    "logreg.fit(X, Y)\n",
    "\n",
    "print('coefficient:' , logreg.coef_) #係數 A\n",
    "print(\"intercept:\", logreg.intercept_, end='\\n') #截距 C"
   ]
  },
  {
   "cell_type": "code",
   "execution_count": 88,
   "metadata": {},
   "outputs": [
    {
     "data": {
      "image/png": "[encoded data removed]",
      "text/plain": [
       "<Figure size 288x216 with 1 Axes>"
      ]
     },
     "metadata": {},
     "output_type": "display_data"
    }
   ],
   "source": [
    "# Plot the decision boundary. For that, we will assign a color to each\n",
    "# point in the mesh [x_min, x_max]x[y_min, y_max].\n",
    "x_min, x_max = X[:, 0].min() - .5, X[:, 0].max() + .5\n",
    "y_min, y_max = X[:, 1].min() - .5, X[:, 1].max() + .5\n",
    "h = .02  # step size in the mesh\n",
    "xx, yy = np.meshgrid(np.arange(x_min, x_max, h), np.arange(y_min, y_max, h))\n",
    "Z = logreg.predict(np.c_[xx.ravel(), yy.ravel()])\n",
    "\n",
    "# Put the result into a color plot\n",
    "Z = Z.reshape(xx.shape)\n",
    "plt.figure(1, figsize=(4, 3))\n",
    "plt.pcolormesh(xx, yy, Z, cmap=plt.cm.Paired)\n",
    "\n",
    "# Plot also the training points\n",
    "plt.scatter(X[:, 0], X[:, 1], c=Y, edgecolors='k', cmap=plt.cm.Paired)\n",
    "plt.xlabel('X')\n",
    "plt.ylabel('Y')\n",
    "\n",
    "plt.xlim(xx.min(), xx.max())\n",
    "plt.ylim(yy.min(), yy.max())\n",
    "plt.xticks(())\n",
    "plt.yticks(())\n",
    "\n",
    "plt.show()"
   ]
  }
 ],
 "metadata": {
  "kernelspec": {
   "display_name": "Python 3",
   "language": "python",
   "name": "python3"
  },
  "language_info": {
   "codemirror_mode": {
    "name": "ipython",
    "version": 3
   },
   "file_extension": ".py",
   "mimetype": "text/x-python",
   "name": "python",
   "nbconvert_exporter": "python",
   "pygments_lexer": "ipython3",
   "version": "3.7.3"
  }
 },
 "nbformat": 4,
 "nbformat_minor": 1
}
