{
 "cells": [
  {
   "cell_type": "code",
   "execution_count": 6,
   "metadata": {},
   "outputs": [
    {
     "name": "stdout",
     "output_type": "stream",
     "text": [
      "        a1  class0   class1 class2\n",
      "0 -3.39726       0  IMPROVE     C3\n",
      "1 -1.96212       0  IMPROVE     C3\n",
      "2  3.53738       1     PASS     C0\n",
      "3  1.44982       1     PASS     C0\n",
      "4  1.54657       1     PASS     C0\n"
     ]
    }
   ],
   "source": [
    "import numpy as np\n",
    "import matplotlib.pyplot as plt\n",
    "import pandas as pd\n",
    "\n",
    "from sklearn.metrics import mean_squared_error, r2_score\n",
    "from sklearn.linear_model import LogisticRegression\n",
    "\n",
    "# import data\n",
    "data = pd.read_csv(\"logistic.regression.basic.csv\")\n",
    "print(data.head())\n",
    "\n",
    "X = data[[\"a1\"]].to_numpy()\n",
    "Y = data[\"class0\"].to_numpy()\n",
    "Y2 = data[\"class2\"].to_numpy()\n",
    "trainX = X[:270] #一直取到第 270 element 為止\n",
    "trainY = Y[:270]\n",
    "trainY2 = Y2[:270]\n",
    "testX = X[-30:] #從倒數 30 個開始取 element\n",
    "testY = Y[-30:]\n",
    "testY2 = Y2[-30:]\n",
    "#print(trainX)\n",
    "#print(testX)"
   ]
  },
  {
   "cell_type": "code",
   "execution_count": 9,
   "metadata": {},
   "outputs": [
    {
     "name": "stdout",
     "output_type": "stream",
     "text": [
      "[0]\n",
      "['C3' 'C3' 'C1' 'C1' 'C3' 'C3' 'C0' 'C2' 'C1' 'C0' 'C2' 'C0' 'C0' 'C0'\n",
      " 'C0' 'C1' 'C3' 'C3' 'C1' 'C0' 'C2' 'C2' 'C1' 'C3' 'C1' 'C2' 'C2' 'C0'\n",
      " 'C1' 'C2']\n",
      "['C3' 'C3' 'C1' 'C1' 'C3' 'C3' 'C0' 'C2' 'C1' 'C0' 'C2' 'C0' 'C0' 'C0'\n",
      " 'C0' 'C1' 'C3' 'C3' 'C1' 'C0' 'C2' 'C2' 'C1' 'C3' 'C1' 'C2' 'C2' 'C0'\n",
      " 'C1' 'C2']\n"
     ]
    }
   ],
   "source": [
    "logreg = LogisticRegression(C=1e5, solver='lbfgs', multi_class='multinomial')\n",
    "\n",
    "logreg.fit(trainX, trainY)\n",
    "print(logreg.predict([[-0.902]]))\n",
    "\n",
    "logreg.fit(trainX, trainY2)\n",
    "predictY = logreg.predict(testX)\n",
    "print(predictY)\n",
    "print(testY2)"
   ]
  }
 ],
 "metadata": {
  "kernelspec": {
   "display_name": "Python 3",
   "language": "python",
   "name": "python3"
  },
  "language_info": {
   "codemirror_mode": {
    "name": "ipython",
    "version": 3
   },
   "file_extension": ".py",
   "mimetype": "text/x-python",
   "name": "python",
   "nbconvert_exporter": "python",
   "pygments_lexer": "ipython3",
   "version": "3.7.2"
  }
 },
 "nbformat": 4,
 "nbformat_minor": 1
}
