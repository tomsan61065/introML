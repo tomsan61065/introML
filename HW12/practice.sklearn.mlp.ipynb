{
 "cells": [
  {
   "cell_type": "markdown",
   "metadata": {},
   "source": [
    "### Introduction to Machine Learning\n",
    "##### https://scikit-learn.org/stable/modules/neural_networks_supervised.html\n",
    "##### https://scikit-learn.org/stable/modules/generated/sklearn.neural_network.MLPClassifier.html\n",
    "#### prepared by Chao-Lin Liu\n",
    "\n",
    "###### 如果你直接執行這一個程式的話，會看到很低的辨識率，甚至看到一些警訊。嘗試改變一下 MLPClassifier 的參數設定，解決那一些問題。 你應該可以達成˙ $F_1$ 76%以上的辨識率"
   ]
  },
  {
   "cell_type": "code",
   "execution_count": 14,
   "metadata": {},
   "outputs": [],
   "source": [
    "import pandas as pd\n",
    "import numpy as np\n",
    "df = pd.read_csv(\"introML2019.taskx.train.csv\")"
   ]
  },
  {
   "cell_type": "code",
   "execution_count": 15,
   "metadata": {
    "scrolled": true
   },
   "outputs": [
    {
     "data": {
      "text/html": [
       "<div>\n",
       "<style scoped>\n",
       "    .dataframe tbody tr th:only-of-type {\n",
       "        vertical-align: middle;\n",
       "    }\n",
       "\n",
       "    .dataframe tbody tr th {\n",
       "        vertical-align: top;\n",
       "    }\n",
       "\n",
       "    .dataframe thead th {\n",
       "        text-align: right;\n",
       "    }\n",
       "</style>\n",
       "<table border=\"1\" class=\"dataframe\">\n",
       "  <thead>\n",
       "    <tr style=\"text-align: right;\">\n",
       "      <th></th>\n",
       "      <th>feature_0</th>\n",
       "      <th>feature_1</th>\n",
       "      <th>feature_2</th>\n",
       "      <th>feature_3</th>\n",
       "      <th>feature_4</th>\n",
       "      <th>feature_5</th>\n",
       "      <th>feature_6</th>\n",
       "      <th>feature_7</th>\n",
       "      <th>feature_8</th>\n",
       "      <th>feature_9</th>\n",
       "      <th>feature_10</th>\n",
       "      <th>feature_11</th>\n",
       "      <th>feature_12</th>\n",
       "      <th>feature_13</th>\n",
       "      <th>label</th>\n",
       "    </tr>\n",
       "  </thead>\n",
       "  <tbody>\n",
       "    <tr>\n",
       "      <th>0</th>\n",
       "      <td>3.03072</td>\n",
       "      <td>3.82764</td>\n",
       "      <td>0.58316</td>\n",
       "      <td>0.05098</td>\n",
       "      <td>2.33048</td>\n",
       "      <td>1.31349</td>\n",
       "      <td>0.83424</td>\n",
       "      <td>3.03314</td>\n",
       "      <td>0.94328</td>\n",
       "      <td>1.23016</td>\n",
       "      <td>0.24975</td>\n",
       "      <td>0.85205</td>\n",
       "      <td>0.34522</td>\n",
       "      <td>1.33981</td>\n",
       "      <td>0</td>\n",
       "    </tr>\n",
       "    <tr>\n",
       "      <th>1</th>\n",
       "      <td>2.06554</td>\n",
       "      <td>2.58245</td>\n",
       "      <td>2.78158</td>\n",
       "      <td>2.64259</td>\n",
       "      <td>0.36718</td>\n",
       "      <td>0.72675</td>\n",
       "      <td>5.03764</td>\n",
       "      <td>2.74495</td>\n",
       "      <td>0.23774</td>\n",
       "      <td>0.50992</td>\n",
       "      <td>0.52516</td>\n",
       "      <td>0.08850</td>\n",
       "      <td>0.16748</td>\n",
       "      <td>1.71180</td>\n",
       "      <td>0</td>\n",
       "    </tr>\n",
       "    <tr>\n",
       "      <th>2</th>\n",
       "      <td>4.79113</td>\n",
       "      <td>4.26817</td>\n",
       "      <td>3.31938</td>\n",
       "      <td>1.69178</td>\n",
       "      <td>0.60181</td>\n",
       "      <td>0.97848</td>\n",
       "      <td>2.77091</td>\n",
       "      <td>0.64957</td>\n",
       "      <td>0.15596</td>\n",
       "      <td>0.81251</td>\n",
       "      <td>0.47414</td>\n",
       "      <td>1.27370</td>\n",
       "      <td>1.66604</td>\n",
       "      <td>1.27203</td>\n",
       "      <td>0</td>\n",
       "    </tr>\n",
       "    <tr>\n",
       "      <th>3</th>\n",
       "      <td>0.54282</td>\n",
       "      <td>0.70391</td>\n",
       "      <td>4.64737</td>\n",
       "      <td>2.79710</td>\n",
       "      <td>1.97160</td>\n",
       "      <td>0.72203</td>\n",
       "      <td>4.49158</td>\n",
       "      <td>0.01500</td>\n",
       "      <td>0.91521</td>\n",
       "      <td>0.93423</td>\n",
       "      <td>0.31449</td>\n",
       "      <td>0.01357</td>\n",
       "      <td>0.78556</td>\n",
       "      <td>1.27886</td>\n",
       "      <td>0</td>\n",
       "    </tr>\n",
       "    <tr>\n",
       "      <th>4</th>\n",
       "      <td>3.03771</td>\n",
       "      <td>2.79512</td>\n",
       "      <td>1.23405</td>\n",
       "      <td>0.43138</td>\n",
       "      <td>0.71433</td>\n",
       "      <td>0.77471</td>\n",
       "      <td>3.04295</td>\n",
       "      <td>1.22548</td>\n",
       "      <td>3.13544</td>\n",
       "      <td>0.38265</td>\n",
       "      <td>0.33434</td>\n",
       "      <td>1.14438</td>\n",
       "      <td>0.99043</td>\n",
       "      <td>1.28083</td>\n",
       "      <td>0</td>\n",
       "    </tr>\n",
       "  </tbody>\n",
       "</table>\n",
       "</div>"
      ],
      "text/plain": [
       "   feature_0  feature_1  feature_2  feature_3  feature_4  feature_5  \\\n",
       "0    3.03072    3.82764    0.58316    0.05098    2.33048    1.31349   \n",
       "1    2.06554    2.58245    2.78158    2.64259    0.36718    0.72675   \n",
       "2    4.79113    4.26817    3.31938    1.69178    0.60181    0.97848   \n",
       "3    0.54282    0.70391    4.64737    2.79710    1.97160    0.72203   \n",
       "4    3.03771    2.79512    1.23405    0.43138    0.71433    0.77471   \n",
       "\n",
       "   feature_6  feature_7  feature_8  feature_9  feature_10  feature_11  \\\n",
       "0    0.83424    3.03314    0.94328    1.23016     0.24975     0.85205   \n",
       "1    5.03764    2.74495    0.23774    0.50992     0.52516     0.08850   \n",
       "2    2.77091    0.64957    0.15596    0.81251     0.47414     1.27370   \n",
       "3    4.49158    0.01500    0.91521    0.93423     0.31449     0.01357   \n",
       "4    3.04295    1.22548    3.13544    0.38265     0.33434     1.14438   \n",
       "\n",
       "   feature_12  feature_13  label  \n",
       "0     0.34522     1.33981      0  \n",
       "1     0.16748     1.71180      0  \n",
       "2     1.66604     1.27203      0  \n",
       "3     0.78556     1.27886      0  \n",
       "4     0.99043     1.28083      0  "
      ]
     },
     "execution_count": 15,
     "metadata": {},
     "output_type": "execute_result"
    }
   ],
   "source": [
    "df[0:5]"
   ]
  },
  {
   "cell_type": "code",
   "execution_count": 16,
   "metadata": {},
   "outputs": [],
   "source": [
    "X_train = np.array(df.iloc[:,0:14])\n",
    "y_train = np.array(df.iloc[:,14:15]).reshape(-1)"
   ]
  },
  {
   "cell_type": "code",
   "execution_count": 17,
   "metadata": {},
   "outputs": [
    {
     "data": {
      "text/plain": [
       "array([[3.03072, 3.82764, 0.58316, 0.05098, 2.33048, 1.31349, 0.83424,\n",
       "        3.03314, 0.94328, 1.23016, 0.24975, 0.85205, 0.34522, 1.33981],\n",
       "       [2.06554, 2.58245, 2.78158, 2.64259, 0.36718, 0.72675, 5.03764,\n",
       "        2.74495, 0.23774, 0.50992, 0.52516, 0.0885 , 0.16748, 1.7118 ],\n",
       "       [4.79113, 4.26817, 3.31938, 1.69178, 0.60181, 0.97848, 2.77091,\n",
       "        0.64957, 0.15596, 0.81251, 0.47414, 1.2737 , 1.66604, 1.27203]])"
      ]
     },
     "execution_count": 17,
     "metadata": {},
     "output_type": "execute_result"
    }
   ],
   "source": [
    "X_train[0:3]"
   ]
  },
  {
   "cell_type": "code",
   "execution_count": 18,
   "metadata": {},
   "outputs": [
    {
     "data": {
      "text/plain": [
       "array([3, 3, 3])"
      ]
     },
     "execution_count": 18,
     "metadata": {},
     "output_type": "execute_result"
    }
   ],
   "source": [
    "y_train[30663:30666]"
   ]
  },
  {
   "cell_type": "code",
   "execution_count": 19,
   "metadata": {},
   "outputs": [
    {
     "data": {
      "text/plain": [
       "MLPClassifier(activation='relu', alpha=1e-05, batch_size='auto', beta_1=0.9,\n",
       "       beta_2=0.999, early_stopping=False, epsilon=1e-08,\n",
       "       hidden_layer_sizes=(10, 2), learning_rate='adaptive',\n",
       "       learning_rate_init=0.001, max_iter=20, momentum=0.9,\n",
       "       n_iter_no_change=10, nesterovs_momentum=True, power_t=0.5,\n",
       "       random_state=1, shuffle=True, solver='lbfgs', tol=0.0001,\n",
       "       validation_fraction=0.1, verbose=False, warm_start=False)"
      ]
     },
     "execution_count": 19,
     "metadata": {},
     "output_type": "execute_result"
    }
   ],
   "source": [
    "from sklearn.neural_network import MLPClassifier\n",
    "clf = MLPClassifier(solver='lbfgs', alpha=1e-5, learning_rate='adaptive', max_iter=20, hidden_layer_sizes=(10, 2), random_state=1)\n",
    "clf.fit(X_train, y_train)  "
   ]
  },
  {
   "cell_type": "code",
   "execution_count": 20,
   "metadata": {
    "scrolled": true
   },
   "outputs": [],
   "source": [
    "df2 = pd.read_csv(\"introML2019.taskx.test.csv\")"
   ]
  },
  {
   "cell_type": "code",
   "execution_count": 21,
   "metadata": {},
   "outputs": [],
   "source": [
    "testX = np.array(df2.iloc[:,0:14])"
   ]
  },
  {
   "cell_type": "code",
   "execution_count": 22,
   "metadata": {},
   "outputs": [],
   "source": [
    "testy = np.array(df2.iloc[:,14:15]).reshape(-1)"
   ]
  },
  {
   "cell_type": "code",
   "execution_count": 23,
   "metadata": {},
   "outputs": [],
   "source": [
    "predicty = clf.predict(testX)"
   ]
  },
  {
   "cell_type": "code",
   "execution_count": 24,
   "metadata": {},
   "outputs": [
    {
     "name": "stdout",
     "output_type": "stream",
     "text": [
      "[[   0    0  162  104 2234]\n",
      " [   0    0  230  141 2129]\n",
      " [   0    0  213  358 1929]\n",
      " [   0    0  176  875 1449]\n",
      " [   0    0  110   50 2340]]\n"
     ]
    }
   ],
   "source": [
    "from sklearn.metrics import classification_report,confusion_matrix\n",
    "print(confusion_matrix(testy,predicty))\n",
    "\n",
    "#可以參考 https://blog.csdn.net/m0_38061927/article/details/77198990"
   ]
  },
  {
   "cell_type": "code",
   "execution_count": 25,
   "metadata": {},
   "outputs": [
    {
     "name": "stdout",
     "output_type": "stream",
     "text": [
      "              precision    recall  f1-score   support\n",
      "\n",
      "           0       0.00      0.00      0.00      2500\n",
      "           1       0.00      0.00      0.00      2500\n",
      "           2       0.24      0.09      0.13      2500\n",
      "           3       0.57      0.35      0.43      2500\n",
      "           4       0.23      0.94      0.37      2500\n",
      "\n",
      "   micro avg       0.27      0.27      0.27     12500\n",
      "   macro avg       0.21      0.27      0.19     12500\n",
      "weighted avg       0.21      0.27      0.19     12500\n",
      "\n"
     ]
    },
    {
     "name": "stderr",
     "output_type": "stream",
     "text": [
      "/home/tom/anaconda3/envs/testJ/lib/python3.7/site-packages/sklearn/metrics/classification.py:1143: UndefinedMetricWarning: Precision and F-score are ill-defined and being set to 0.0 in labels with no predicted samples.\n",
      "  'precision', 'predicted', average, warn_for)\n"
     ]
    }
   ],
   "source": [
    "print(classification_report(testy,predicty))"
   ]
  },
  {
   "cell_type": "code",
   "execution_count": 30,
   "metadata": {
    "scrolled": true
   },
   "outputs": [
    {
     "name": "stdout",
     "output_type": "stream",
     "text": [
      "[[2084    1   78    6  331]\n",
      " [   0 2463    4   33    0]\n",
      " [   3   24 2321   62   90]\n",
      " [   0  446  133 1918    3]\n",
      " [ 195    4  231   14 2056]]\n",
      "              precision    recall  f1-score   support\n",
      "\n",
      "           0       0.91      0.83      0.87      2500\n",
      "           1       0.84      0.99      0.91      2500\n",
      "           2       0.84      0.93      0.88      2500\n",
      "           3       0.94      0.77      0.85      2500\n",
      "           4       0.83      0.82      0.83      2500\n",
      "\n",
      "   micro avg       0.87      0.87      0.87     12500\n",
      "   macro avg       0.87      0.87      0.87     12500\n",
      "weighted avg       0.87      0.87      0.87     12500\n",
      "\n"
     ]
    },
    {
     "name": "stderr",
     "output_type": "stream",
     "text": [
      "/home/tom/anaconda3/envs/testJ/lib/python3.7/site-packages/sklearn/neural_network/multilayer_perceptron.py:562: ConvergenceWarning: Stochastic Optimizer: Maximum iterations (20) reached and the optimization hasn't converged yet.\n",
      "  % self.max_iter, ConvergenceWarning)\n"
     ]
    }
   ],
   "source": [
    "clf = MLPClassifier(solver='adam', alpha=1e-5, learning_rate='adaptive', max_iter=20, hidden_layer_sizes=(14, 14, 14, 14, 1), random_state=1)\n",
    "clf.fit(X_train, y_train)  \n",
    "\n",
    "predicty = clf.predict(testX)\n",
    "\n",
    "print(confusion_matrix(testy,predicty))\n",
    "print(classification_report(testy,predicty))"
   ]
  },
  {
   "cell_type": "code",
   "execution_count": 35,
   "metadata": {},
   "outputs": [
    {
     "name": "stdout",
     "output_type": "stream",
     "text": [
      "[[2251    0   48    4  197]\n",
      " [   0 2491    0    9    0]\n",
      " [   0    1 2398   48   53]\n",
      " [   0   15   43 2442    0]\n",
      " [   6    1   30   11 2452]]\n",
      "              precision    recall  f1-score   support\n",
      "\n",
      "           0       1.00      0.90      0.95      2500\n",
      "           1       0.99      1.00      0.99      2500\n",
      "           2       0.95      0.96      0.96      2500\n",
      "           3       0.97      0.98      0.97      2500\n",
      "           4       0.91      0.98      0.94      2500\n",
      "\n",
      "   micro avg       0.96      0.96      0.96     12500\n",
      "   macro avg       0.96      0.96      0.96     12500\n",
      "weighted avg       0.96      0.96      0.96     12500\n",
      "\n"
     ]
    }
   ],
   "source": [
    "clf = MLPClassifier(solver='adam', alpha=1e-5, learning_rate='adaptive', max_iter=200, hidden_layer_sizes=(14, 14, 14, 14, 1), random_state=1)\n",
    "clf.fit(X_train, y_train)  \n",
    "\n",
    "predicty = clf.predict(testX)\n",
    "\n",
    "print(confusion_matrix(testy,predicty))\n",
    "print(classification_report(testy,predicty))"
   ]
  },
  {
   "cell_type": "code",
   "execution_count": 37,
   "metadata": {},
   "outputs": [
    {
     "name": "stdout",
     "output_type": "stream",
     "text": [
      "[[2299    0   67   11  123]\n",
      " [   0 2496    1    3    0]\n",
      " [  10    4 2426   27   33]\n",
      " [   2   17   12 2468    1]\n",
      " [  39    0    9   10 2442]]\n",
      "              precision    recall  f1-score   support\n",
      "\n",
      "           0       0.98      0.92      0.95      2500\n",
      "           1       0.99      1.00      1.00      2500\n",
      "           2       0.96      0.97      0.97      2500\n",
      "           3       0.98      0.99      0.98      2500\n",
      "           4       0.94      0.98      0.96      2500\n",
      "\n",
      "   micro avg       0.97      0.97      0.97     12500\n",
      "   macro avg       0.97      0.97      0.97     12500\n",
      "weighted avg       0.97      0.97      0.97     12500\n",
      "\n"
     ]
    }
   ],
   "source": [
    "clf = MLPClassifier(solver='adam', alpha=1e-5, learning_rate='adaptive', max_iter=200, hidden_layer_sizes=(14, 14, 14, 14, 14), random_state=1)\n",
    "clf.fit(X_train, y_train)  \n",
    "\n",
    "predicty = clf.predict(testX)\n",
    "\n",
    "print(confusion_matrix(testy,predicty))\n",
    "print(classification_report(testy,predicty))"
   ]
  },
  {
   "cell_type": "code",
   "execution_count": 34,
   "metadata": {},
   "outputs": [
    {
     "name": "stdout",
     "output_type": "stream",
     "text": [
      "[[2227    0   50   12  211]\n",
      " [   0 2497    3    0    0]\n",
      " [  19    3 2339   85   54]\n",
      " [   6   20   50 2423    1]\n",
      " [  73    1   58   21 2347]]\n",
      "              precision    recall  f1-score   support\n",
      "\n",
      "           0       0.96      0.89      0.92      2500\n",
      "           1       0.99      1.00      0.99      2500\n",
      "           2       0.94      0.94      0.94      2500\n",
      "           3       0.95      0.97      0.96      2500\n",
      "           4       0.90      0.94      0.92      2500\n",
      "\n",
      "   micro avg       0.95      0.95      0.95     12500\n",
      "   macro avg       0.95      0.95      0.95     12500\n",
      "weighted avg       0.95      0.95      0.95     12500\n",
      "\n"
     ]
    },
    {
     "name": "stderr",
     "output_type": "stream",
     "text": [
      "/home/tom/anaconda3/envs/testJ/lib/python3.7/site-packages/sklearn/neural_network/multilayer_perceptron.py:562: ConvergenceWarning: Stochastic Optimizer: Maximum iterations (20) reached and the optimization hasn't converged yet.\n",
      "  % self.max_iter, ConvergenceWarning)\n"
     ]
    }
   ],
   "source": [
    "clf = MLPClassifier(solver='adam', alpha=1e-5, learning_rate='adaptive', max_iter=20, hidden_layer_sizes=(16, 16, 16, 16, 16), random_state=1)\n",
    "clf.fit(X_train, y_train)  \n",
    "\n",
    "predicty = clf.predict(testX)\n",
    "\n",
    "print(confusion_matrix(testy,predicty))\n",
    "print(classification_report(testy,predicty))"
   ]
  },
  {
   "cell_type": "code",
   "execution_count": 36,
   "metadata": {},
   "outputs": [
    {
     "name": "stdout",
     "output_type": "stream",
     "text": [
      "[[2361    0   37    5   97]\n",
      " [   0 2499    0    1    0]\n",
      " [   4    1 2462   22   11]\n",
      " [   1   10   12 2475    2]\n",
      " [  20    0   10    6 2464]]\n",
      "              precision    recall  f1-score   support\n",
      "\n",
      "           0       0.99      0.94      0.97      2500\n",
      "           1       1.00      1.00      1.00      2500\n",
      "           2       0.98      0.98      0.98      2500\n",
      "           3       0.99      0.99      0.99      2500\n",
      "           4       0.96      0.99      0.97      2500\n",
      "\n",
      "   micro avg       0.98      0.98      0.98     12500\n",
      "   macro avg       0.98      0.98      0.98     12500\n",
      "weighted avg       0.98      0.98      0.98     12500\n",
      "\n"
     ]
    }
   ],
   "source": [
    "clf = MLPClassifier(solver='adam', alpha=1e-5, learning_rate='adaptive', max_iter=200, hidden_layer_sizes=(16, 16, 16, 16, 16), random_state=1)\n",
    "clf.fit(X_train, y_train)  \n",
    "\n",
    "predicty = clf.predict(testX)\n",
    "\n",
    "print(confusion_matrix(testy,predicty))\n",
    "print(classification_report(testy,predicty))"
   ]
  },
  {
   "cell_type": "code",
   "execution_count": null,
   "metadata": {},
   "outputs": [],
   "source": []
  }
 ],
 "metadata": {
  "kernelspec": {
   "display_name": "Python 3",
   "language": "python",
   "name": "python3"
  },
  "language_info": {
   "codemirror_mode": {
    "name": "ipython",
    "version": 3
   },
   "file_extension": ".py",
   "mimetype": "text/x-python",
   "name": "python",
   "nbconvert_exporter": "python",
   "pygments_lexer": "ipython3",
   "version": "3.7.2"
  }
 },
 "nbformat": 4,
 "nbformat_minor": 2
}
