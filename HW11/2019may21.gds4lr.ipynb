{
 "cells": [
  {
   "cell_type": "markdown",
   "metadata": {},
   "source": [
    "### Introduction to Machine Learning\n",
    "##### 參考資料: https://towardsdatascience.com/linear-regression-using-gradient-descent-97a6c8700931\n",
    "#### prepared by Chao-Lin Liu"
   ]
  },
  {
   "cell_type": "code",
   "execution_count": 40,
   "metadata": {
    "scrolled": true
   },
   "outputs": [],
   "source": [
    "# Making the imports\n",
    "import numpy as np\n",
    "import pandas as pd\n",
    "import matplotlib.pyplot as plt\n",
    "plt.rcParams['figure.figsize'] = (12.0, 9.0)"
   ]
  },
  {
   "cell_type": "markdown",
   "metadata": {},
   "source": [
    "##### Preprocessing Input data\n",
    "######  這一組數據的答案是： $y_2=0.2x+4$"
   ]
  },
  {
   "cell_type": "code",
   "execution_count": 41,
   "metadata": {},
   "outputs": [
    {
     "data": {
      "image/png": "[encoded data removed]",
      "text/plain": [
       "<Figure size 864x648 with 1 Axes>"
      ]
     },
     "metadata": {
      "needs_background": "light"
     },
     "output_type": "display_data"
    }
   ],
   "source": [
    "data = pd.read_csv('linear.regression.csv')\n",
    "X = data.iloc[:, 0]\n",
    "Y = data.iloc[:, 2]\n",
    "plt.scatter(X, Y)\n",
    "plt.show()"
   ]
  },
  {
   "cell_type": "code",
   "execution_count": 42,
   "metadata": {},
   "outputs": [],
   "source": [
    "# initial guess\n",
    "m = 5\n",
    "c = -2"
   ]
  },
  {
   "cell_type": "code",
   "execution_count": 43,
   "metadata": {},
   "outputs": [
    {
     "data": {
      "text/plain": [
       "0    12.699206\n",
       "1   -16.338590\n",
       "2    16.566408\n",
       "3    47.881772\n",
       "4    15.416405\n",
       "Name: X, dtype: float64"
      ]
     },
     "execution_count": 43,
     "metadata": {},
     "output_type": "execute_result"
    }
   ],
   "source": [
    "X[0:5]"
   ]
  },
  {
   "cell_type": "code",
   "execution_count": 44,
   "metadata": {},
   "outputs": [
    {
     "data": {
      "text/plain": [
       "pandas.core.series.Series"
      ]
     },
     "execution_count": 44,
     "metadata": {},
     "output_type": "execute_result"
    }
   ],
   "source": [
    "type(X)"
   ]
  },
  {
   "cell_type": "code",
   "execution_count": 45,
   "metadata": {},
   "outputs": [
    {
     "data": {
      "text/plain": [
       "0     61.496031\n",
       "1    -83.692950\n",
       "2     80.832039\n",
       "3    237.408862\n",
       "4     75.082027\n",
       "Name: X, dtype: float64"
      ]
     },
     "execution_count": 45,
     "metadata": {},
     "output_type": "execute_result"
    }
   ],
   "source": [
    "# 這是一個方便的指令；一個指令完成一個 series 的運算\n",
    "tempY = m*X + c\n",
    "tempY[0:5]"
   ]
  },
  {
   "cell_type": "code",
   "execution_count": 46,
   "metadata": {},
   "outputs": [
    {
     "data": {
      "text/plain": [
       "0     6.539841\n",
       "1    -0.767718\n",
       "2     5.513282\n",
       "3    14.776354\n",
       "4     7.383281\n",
       "Name: Y2, dtype: float64"
      ]
     },
     "execution_count": 46,
     "metadata": {},
     "output_type": "execute_result"
    }
   ],
   "source": [
    "Y[0:5]"
   ]
  },
  {
   "cell_type": "code",
   "execution_count": 47,
   "metadata": {},
   "outputs": [
    {
     "data": {
      "text/plain": [
       "0    -54.956189\n",
       "1     82.925232\n",
       "2    -75.318758\n",
       "3   -222.632507\n",
       "4    -67.698746\n",
       "dtype: float64"
      ]
     },
     "execution_count": 47,
     "metadata": {},
     "output_type": "execute_result"
    }
   ],
   "source": [
    "delta = Y - tempY\n",
    "delta[0:5]"
   ]
  },
  {
   "cell_type": "code",
   "execution_count": 48,
   "metadata": {},
   "outputs": [
    {
     "data": {
      "text/plain": [
       "pandas.core.series.Series"
      ]
     },
     "execution_count": 48,
     "metadata": {},
     "output_type": "execute_result"
    }
   ],
   "source": [
    "type(delta)"
   ]
  },
  {
   "cell_type": "code",
   "execution_count": 49,
   "metadata": {},
   "outputs": [],
   "source": [
    "# 一般的 Python list 沒有這樣便利\n",
    "list1 = [1, 2, 3, 4]\n",
    "list2 = [2, 4, 6, 8]\n",
    "#list1 * list2  # 錯誤指令"
   ]
  },
  {
   "cell_type": "code",
   "execution_count": 50,
   "metadata": {},
   "outputs": [
    {
     "data": {
      "text/plain": [
       "pandas.core.series.Series"
      ]
     },
     "execution_count": 50,
     "metadata": {},
     "output_type": "execute_result"
    }
   ],
   "source": [
    "series1 = pd.Series(list1)\n",
    "series2 = pd.Series(list2)\n",
    "type(series1)"
   ]
  },
  {
   "cell_type": "code",
   "execution_count": 51,
   "metadata": {
    "scrolled": true
   },
   "outputs": [
    {
     "name": "stdout",
     "output_type": "stream",
     "text": [
      "the inner product\n",
      "0     2\n",
      "1     8\n",
      "2    18\n",
      "3    32\n",
      "dtype: int64\n",
      "the sum\n",
      "60\n"
     ]
    }
   ],
   "source": [
    "print(\"the inner product\")\n",
    "print(series1*series2)\n",
    "print(\"the sum\")\n",
    "print(sum(series1*series2))"
   ]
  },
  {
   "cell_type": "markdown",
   "metadata": {},
   "source": [
    "## 提示：$\\frac{𝜕𝐸}{𝜕𝑤_𝑖}=\\frac{2}{𝑛} \\sum_{j=1}^n 𝑎_𝑖^𝑗 (\\hat{𝑦}_𝑗−𝑦_𝑗)$\n",
    "## 提示：$w_i = w_i - \\lambda \\frac{𝜕𝐸}{𝜕𝑤_𝑖}$"
   ]
  },
  {
   "cell_type": "code",
   "execution_count": 54,
   "metadata": {},
   "outputs": [
    {
     "name": "stdout",
     "output_type": "stream",
     "text": [
      "300.0\n",
      "0.20667775427947874 3.900389352928937\n"
     ]
    }
   ],
   "source": [
    "# Building the model\n",
    "\n",
    "L = 0.001  # The learning Rate\n",
    "epochs = 10000  # The number of iterations to perform gradient descent\n",
    "\n",
    "n = float(len(X)) # Number of elements in X\n",
    "print(n)\n",
    "\n",
    "# f(x) = (1/n) sigma(yi' - yi)^2\n",
    "# => (1/n) sigma(m*xi + c - yi)^2\n",
    "# df(x)/dm => (1/n) sigma 2*(m*xi + c - yi)*xi\n",
    "# df(x)/dc => (1/n) sigma 2*(m*xi + c - yi)*1\n",
    "for i in range(epochs): \n",
    "    Y_pred = m*X + c    # The current predicted value of Y\n",
    "    D_m = (2/n)*np.sum((Y_pred - Y)*X)  # 相當於做 X_1 的微分，但是這裡依賴數據的誤差資訊\n",
    "    D_c = (2/n)*np.sum((Y_pred - Y)*1)  # 相當於做 X_0 的微分，但是這裡依賴數據的誤差資訊；\n",
    "    m = m - L * D_m             # Update m\n",
    "    c = c - L * D_c             # Update c\n",
    "    Y_pred = m*X + c\n",
    "\n",
    "print (m, c)"
   ]
  },
  {
   "cell_type": "markdown",
   "metadata": {},
   "source": [
    "#### 應該看到\n",
    "0.2066813200395493 3.900231706569465"
   ]
  },
  {
   "cell_type": "code",
   "execution_count": 55,
   "metadata": {},
   "outputs": [
    {
     "data": {
      "image/png": "[encoded data removed]",
      "text/plain": [
       "<Figure size 864x648 with 1 Axes>"
      ]
     },
     "metadata": {
      "needs_background": "light"
     },
     "output_type": "display_data"
    }
   ],
   "source": [
    "# Making predictions\n",
    "Y_pred = m*X + c\n",
    "\n",
    "plt.scatter(X, Y)\n",
    "plt.plot([min(X), max(X)], [min(Y_pred), max(Y_pred)], color='red') # predicted\n",
    "plt.show()"
   ]
  },
  {
   "cell_type": "code",
   "execution_count": null,
   "metadata": {},
   "outputs": [],
   "source": []
  }
 ],
 "metadata": {
  "kernelspec": {
   "display_name": "Python 3",
   "language": "python",
   "name": "python3"
  },
  "language_info": {
   "codemirror_mode": {
    "name": "ipython",
    "version": 3
   },
   "file_extension": ".py",
   "mimetype": "text/x-python",
   "name": "python",
   "nbconvert_exporter": "python",
   "pygments_lexer": "ipython3",
   "version": "3.7.2"
  }
 },
 "nbformat": 4,
 "nbformat_minor": 2
}
