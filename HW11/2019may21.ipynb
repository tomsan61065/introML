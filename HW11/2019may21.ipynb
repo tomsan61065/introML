{
 "cells": [
  {
   "cell_type": "markdown",
   "metadata": {},
   "source": [
    "#### A simple gradient search for IntroML@cs.nccu.edu.tw\n",
    "#### prepared by Chao-Lin Liu"
   ]
  },
  {
   "cell_type": "markdown",
   "metadata": {},
   "source": [
    "### $f(x) = x^3-11x^2+2x-9$"
   ]
  },
  {
   "cell_type": "code",
   "execution_count": 2,
   "metadata": {},
   "outputs": [
    {
     "name": "stdout",
     "output_type": "stream",
     "text": [
      "-75\n"
     ]
    }
   ],
   "source": [
    "func = lambda x: x*x*x-11*x*x+2*x-9\n",
    "\n",
    "print(func(3))"
   ]
  },
  {
   "cell_type": "code",
   "execution_count": 3,
   "metadata": {},
   "outputs": [],
   "source": [
    "# This is your first guess\n",
    "guess = -200"
   ]
  },
  {
   "cell_type": "code",
   "execution_count": 4,
   "metadata": {},
   "outputs": [],
   "source": [
    "# setting the learning rate\n",
    "rate = 0.01"
   ]
  },
  {
   "cell_type": "code",
   "execution_count": 5,
   "metadata": {},
   "outputs": [],
   "source": [
    "# a factor for the stopping criteria\n",
    "precision = 0.01"
   ]
  },
  {
   "cell_type": "code",
   "execution_count": 6,
   "metadata": {},
   "outputs": [],
   "source": [
    "# your patience \n",
    "max_iter = 10000"
   ]
  },
  {
   "cell_type": "code",
   "execution_count": 7,
   "metadata": {},
   "outputs": [
    {
     "data": {
      "text/plain": [
       "17"
      ]
     },
     "execution_count": 7,
     "metadata": {},
     "output_type": "execute_result"
    }
   ],
   "source": [
    "# 如果我們知道函數的確實形式的話，就可以做微分\n",
    "# 請定義上述函數的微分多項式\n",
    "dfunc = lambda x: x*3*x**2 - 22*x + 2\n",
    "dfunc(3)"
   ]
  },
  {
   "cell_type": "code",
   "execution_count": 8,
   "metadata": {},
   "outputs": [],
   "source": [
    "# starting from zeroth iteration\n",
    "iter = 0\n",
    "# kicking off the search\n",
    "step_size = 1"
   ]
  },
  {
   "cell_type": "code",
   "execution_count": 9,
   "metadata": {},
   "outputs": [
    {
     "name": "stdout",
     "output_type": "stream",
     "text": [
      "Iteration:  1 \n",
      " current guess is:  239755.98 \n",
      " f(guess) is:  1.3781243890667232e+16\n",
      "Iteration:  2 \n",
      " current guess is:  -413456285780011.7 \n",
      " f(guess) is:  -7.067873967835898e+43\n",
      "Iteration:  3 \n",
      " current guess is:  2.120362190350713e+42 \n",
      " f(guess) is:  9.533012319300812e+126\n",
      "Iteration:  4 \n",
      " current guess is:  -2.8599036957902435e+125 \n",
      " f(guess) is:  -inf\n",
      "Iteration:  5 \n",
      " current guess is:  inf \n",
      " f(guess) is:  nan\n",
      "Iteration:  6 \n",
      " current guess is:  nan \n",
      " f(guess) is:  nan\n",
      "The mininum is  nan  when the search stops at x =  nan\n"
     ]
    }
   ],
   "source": [
    "while (step_size > precision) and (iter < max_iter):\n",
    "#while (iter < max_iter):\n",
    "    prev = guess                         # save the previous guess\n",
    "    guess = guess - rate * dfunc(guess)  # move to the next guess\n",
    "    step_size = abs(guess-prev)\n",
    "    iter = iter+1\n",
    "    print(\"Iteration: \",iter,\"\\n current guess is: \", guess, \"\\n f(guess) is: \", func(guess))\n",
    "    \n",
    "print(\"The mininum is \",func(guess), \" when the search stops at x = \", guess)"
   ]
  },
  {
   "cell_type": "code",
   "execution_count": 11,
   "metadata": {},
   "outputs": [
    {
     "data": {
      "image/png": "[encoded data removed]",
      "text/plain": [
       "<Figure size 432x288 with 1 Axes>"
      ]
     },
     "metadata": {
      "needs_background": "light"
     },
     "output_type": "display_data"
    }
   ],
   "source": [
    "import matplotlib.pyplot as plt\n",
    "import numpy as np\n",
    "t = np.arange(-4, 12, 0.1) # start, end, sample step\n",
    "plt.plot(t, func(t))\n",
    "plt.show()"
   ]
  },
  {
   "cell_type": "code",
   "execution_count": null,
   "metadata": {},
   "outputs": [],
   "source": []
  }
 ],
 "metadata": {
  "kernelspec": {
   "display_name": "Python 3",
   "language": "python",
   "name": "python3"
  },
  "language_info": {
   "codemirror_mode": {
    "name": "ipython",
    "version": 3
   },
   "file_extension": ".py",
   "mimetype": "text/x-python",
   "name": "python",
   "nbconvert_exporter": "python",
   "pygments_lexer": "ipython3",
   "version": "3.7.2"
  }
 },
 "nbformat": 4,
 "nbformat_minor": 2
}
