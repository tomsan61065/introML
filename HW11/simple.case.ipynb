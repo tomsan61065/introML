{
 "cells": [
  {
   "cell_type": "markdown",
   "metadata": {},
   "source": [
    "#### A simple gradient search for IntroML@cs.nccu.edu.tw\n",
    "#### prepared by Chao-Lin Liu"
   ]
  },
  {
   "cell_type": "markdown",
   "metadata": {},
   "source": [
    "## $f(x) = 2x^2-7x+2$"
   ]
  },
  {
   "cell_type": "code",
   "execution_count": 33,
   "metadata": {},
   "outputs": [
    {
     "name": "stdout",
     "output_type": "stream",
     "text": [
      "27\n"
     ]
    }
   ],
   "source": [
    "#func = lambda x: 2*x*x-7*x+2\n",
    "func = lambda x: x*x*x*x-6*x*x  # min x = sqrt(3)\n",
    "print(func(3))"
   ]
  },
  {
   "cell_type": "code",
   "execution_count": 34,
   "metadata": {},
   "outputs": [],
   "source": [
    "# This is your first guess\n",
    "guess = 4"
   ]
  },
  {
   "cell_type": "code",
   "execution_count": 35,
   "metadata": {},
   "outputs": [],
   "source": [
    "# setting the learning rate\n",
    "rate = 0.01"
   ]
  },
  {
   "cell_type": "code",
   "execution_count": 36,
   "metadata": {},
   "outputs": [],
   "source": [
    "# a factor for the stopping criteria\n",
    "precision = 0.00000001"
   ]
  },
  {
   "cell_type": "code",
   "execution_count": 37,
   "metadata": {},
   "outputs": [],
   "source": [
    "# your patience \n",
    "max_iter = 10000"
   ]
  },
  {
   "cell_type": "code",
   "execution_count": 38,
   "metadata": {},
   "outputs": [
    {
     "data": {
      "text/plain": [
       "72"
      ]
     },
     "execution_count": 38,
     "metadata": {},
     "output_type": "execute_result"
    }
   ],
   "source": [
    "# 如果我們知道函數的確實形式的話，就可以做微分\n",
    "#dfunc = lambda x: 4*x-7 \n",
    "dfunc = lambda x: 4*x**3-12*x\n",
    "dfunc(3)"
   ]
  },
  {
   "cell_type": "code",
   "execution_count": 39,
   "metadata": {},
   "outputs": [],
   "source": [
    "# starting from zeroth iteration\n",
    "iter = 0\n",
    "# kicking off the search\n",
    "step_size = 1"
   ]
  },
  {
   "cell_type": "code",
   "execution_count": 40,
   "metadata": {},
   "outputs": [
    {
     "name": "stdout",
     "output_type": "stream",
     "text": [
      "Iteration:  1 \n",
      " current guess is:  1.92 \n",
      " f(guess) is:  -8.528855039999998\n",
      "Iteration:  2 \n",
      " current guess is:  1.86728448 \n",
      " f(guess) is:  -8.763073143474458\n",
      "Iteration:  3 \n",
      " current guess is:  1.8309283518909685 \n",
      " f(guess) is:  -8.875885675470512\n",
      "Iteration:  4 \n",
      " current guess is:  1.8051270099087051 \n",
      " f(guess) is:  -8.933186268905166\n",
      "Iteration:  5 \n",
      " current guess is:  1.7864631864286442 \n",
      " f(guess) is:  -8.963346623165119\n",
      "Iteration:  6 \n",
      " current guess is:  1.7727824001494552 \n",
      " f(guess) is:  -8.979620313815829\n",
      "Iteration:  7 \n",
      " current guess is:  1.7626592851865508 \n",
      " f(guess) is:  -8.988557899250267\n",
      "Iteration:  8 \n",
      " current guess is:  1.7551173768777617 \n",
      " f(guess) is:  -8.993529887966291\n",
      "Iteration:  9 \n",
      " current guess is:  1.749470321355371 \n",
      " f(guess) is:  -8.99632201352379\n",
      "Iteration:  10 \n",
      " current guess is:  1.7452263579083729 \n",
      " f(guess) is:  -8.997900982078814\n",
      "Iteration:  11 \n",
      " current guess is:  1.7420280532689036 \n",
      " f(guess) is:  -8.998798563892766\n",
      "Iteration:  12 \n",
      " current guess is:  1.739612784443872 \n",
      " f(guess) is:  -8.999310798903503\n",
      "Iteration:  13 \n",
      " current guess is:  1.7377860073309737 \n",
      " f(guess) is:  -8.999603981750397\n",
      "Iteration:  14 \n",
      " current guess is:  1.7364027152611317 \n",
      " f(guess) is:  -8.999772159403621\n",
      "Iteration:  15 \n",
      " current guess is:  1.7353543177000113 \n",
      " f(guess) is:  -8.99986879195648\n",
      "Iteration:  16 \n",
      " current guess is:  1.7345592055647685 \n",
      " f(guess) is:  -8.999924385886564\n",
      "Iteration:  17 \n",
      " current guess is:  1.7339558816342173 \n",
      " f(guess) is:  -8.999956400398212\n",
      "Iteration:  18 \n",
      " current guess is:  1.733497909244637 \n",
      " f(guess) is:  -8.999974849761406\n",
      "Iteration:  19 \n",
      " current guess is:  1.7331501694700504 \n",
      " f(guess) is:  -8.999985487634063\n",
      "Iteration:  20 \n",
      " current guess is:  1.7328860713585374 \n",
      " f(guess) is:  -8.999991623975026\n",
      "Iteration:  21 \n",
      " current guess is:  1.7326854630186381 \n",
      " f(guess) is:  -8.999995164778289\n",
      "Iteration:  22 \n",
      " current guess is:  1.7325330619826522 \n",
      " f(guess) is:  -8.99999720839106\n",
      "Iteration:  23 \n",
      " current guess is:  1.7324172725802347 \n",
      " f(guess) is:  -8.999998388099756\n",
      "Iteration:  24 \n",
      " current guess is:  1.7323292930625152 \n",
      " f(guess) is:  -8.99999906920032\n",
      "Iteration:  25 \n",
      " current guess is:  1.7322624404238467 \n",
      " f(guess) is:  -8.999999462472744\n",
      "Iteration:  26 \n",
      " current guess is:  1.732211639229167 \n",
      " f(guess) is:  -8.999999689569302\n",
      "Iteration:  27 \n",
      " current guess is:  1.732173034254213 \n",
      " f(guess) is:  -8.999999820714997\n",
      "Iteration:  28 \n",
      " current guess is:  1.7321436967445711 \n",
      " f(guess) is:  -8.99999989645366\n",
      "Iteration:  29 \n",
      " current guess is:  1.7321214015489934 \n",
      " f(guess) is:  -8.999999940195442\n",
      "Iteration:  30 \n",
      " current guess is:  1.7321044579579483 \n",
      " f(guess) is:  -8.999999965458557\n",
      "Iteration:  31 \n",
      " current guess is:  1.7320915812663082 \n",
      " f(guess) is:  -8.999999980049596\n",
      "Iteration:  32 \n",
      " current guess is:  1.7320817952333791 \n",
      " f(guess) is:  -8.99999998847697\n",
      "Iteration:  33 \n",
      " current guess is:  1.7320743579943163 \n",
      " f(guess) is:  -8.999999993344442\n",
      "Iteration:  34 \n",
      " current guess is:  1.7320687057769344 \n",
      " f(guess) is:  -8.99999999615581\n",
      "Iteration:  35 \n",
      " current guess is:  1.732064410140418 \n",
      " f(guess) is:  -8.999999997779623\n",
      "Iteration:  36 \n",
      " current guess is:  1.7320611454847903 \n",
      " f(guess) is:  -8.999999998717524\n",
      "Iteration:  37 \n",
      " current guess is:  1.732058664362758 \n",
      " f(guess) is:  -8.999999999259247\n",
      "Iteration:  38 \n",
      " current guess is:  1.7320567787193966 \n",
      " f(guess) is:  -8.999999999572141\n",
      "Iteration:  39 \n",
      " current guess is:  1.7320553456358612 \n",
      " f(guess) is:  -8.99999999975287\n",
      "Iteration:  40 \n",
      " current guess is:  1.7320542564955046 \n",
      " f(guess) is:  -8.999999999857259\n",
      "Iteration:  41 \n",
      " current guess is:  1.7320534287506417 \n",
      " f(guess) is:  -8.999999999917552\n",
      "Iteration:  42 \n",
      " current guess is:  1.7320527996655901 \n",
      " f(guess) is:  -8.99999999995238\n",
      "Iteration:  43 \n",
      " current guess is:  1.7320523215615542 \n",
      " f(guess) is:  -8.999999999972495\n",
      "Iteration:  44 \n",
      " current guess is:  1.7320519582028353 \n",
      " f(guess) is:  -8.99999999998411\n",
      "Iteration:  45 \n",
      " current guess is:  1.7320516820504102 \n",
      " f(guess) is:  -8.999999999990823\n",
      "Iteration:  46 \n",
      " current guess is:  1.7320514721746834 \n",
      " f(guess) is:  -8.9999999999947\n",
      "Iteration:  47 \n",
      " current guess is:  1.732051312669198 \n",
      " f(guess) is:  -8.999999999996936\n",
      "Iteration:  48 \n",
      " current guess is:  1.732051191445068 \n",
      " f(guess) is:  -8.999999999998233\n",
      "Iteration:  49 \n",
      " current guess is:  1.7320510993147515 \n",
      " f(guess) is:  -8.999999999998977\n",
      "Iteration:  50 \n",
      " current guess is:  1.732051029295724 \n",
      " f(guess) is:  -8.999999999999408\n",
      "Iteration:  51 \n",
      " current guess is:  1.7320509760812706 \n",
      " f(guess) is:  -8.99999999999966\n",
      "Iteration:  52 \n",
      " current guess is:  1.7320509356382903 \n",
      " f(guess) is:  -8.999999999999801\n",
      "Iteration:  53 \n",
      " current guess is:  1.7320509049016277 \n",
      " f(guess) is:  -8.999999999999886\n",
      "Iteration:  54 \n",
      " current guess is:  1.7320508815417657 \n",
      " f(guess) is:  -8.999999999999934\n",
      "Iteration:  55 \n",
      " current guess is:  1.7320508637882712 \n",
      " f(guess) is:  -8.999999999999963\n",
      "Iteration:  56 \n",
      " current guess is:  1.732050850295616 \n",
      " f(guess) is:  -8.999999999999979\n",
      "Iteration:  57 \n",
      " current guess is:  1.7320508400411982 \n",
      " f(guess) is:  -8.999999999999984\n",
      "Iteration:  58 \n",
      " current guess is:  1.732050832247841 \n",
      " f(guess) is:  -8.999999999999993\n",
      "The mininum is  -8.999999999999993  when the search stops at x =  1.732050832247841\n"
     ]
    }
   ],
   "source": [
    "while (step_size > precision) and (iter < max_iter):\n",
    "#while (iter < max_iter):\n",
    "    prev = guess                         # save the previous guess\n",
    "    guess = guess - rate * dfunc(guess)  # move to the next guess\n",
    "    step_size = abs(guess-prev)\n",
    "    iter = iter+1\n",
    "    print(\"Iteration: \",iter,\"\\n current guess is: \", guess, \"\\n f(guess) is: \", func(guess))\n",
    "    \n",
    "print(\"The mininum is \",func(guess), \" when the search stops at x = \", guess)"
   ]
  },
  {
   "cell_type": "code",
   "execution_count": null,
   "metadata": {},
   "outputs": [],
   "source": []
  }
 ],
 "metadata": {
  "kernelspec": {
   "display_name": "Python 3",
   "language": "python",
   "name": "python3"
  },
  "language_info": {
   "codemirror_mode": {
    "name": "ipython",
    "version": 3
   },
   "file_extension": ".py",
   "mimetype": "text/x-python",
   "name": "python",
   "nbconvert_exporter": "python",
   "pygments_lexer": "ipython3",
   "version": "3.7.2"
  }
 },
 "nbformat": 4,
 "nbformat_minor": 2
}
