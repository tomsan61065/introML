{
 "cells": [
  {
   "cell_type": "code",
   "execution_count": 11,
   "metadata": {},
   "outputs": [
    {
     "name": "stdout",
     "output_type": "stream",
     "text": [
      "[['a1' 'b1' 0.06]\n",
      " ['a1' 'b2' 0.18]\n",
      " ['a1' 'b3' 0.06]\n",
      " ['a2' 'b1' 0.07]\n",
      " ['a2' 'b2' 0.49]\n",
      " ['a2' 'b3' 0.14]]\n",
      "[['a1' 'b1' 0.03]\n",
      " ['a1' 'b2' 0.18]\n",
      " ['a1' 'b3' 0.09]\n",
      " ['a2' 'b1' 0.07]\n",
      " ['a2' 'b2' 0.49]\n",
      " ['a2' 'b3' 0.14]]\n",
      "[['a1' 'b1' 0.06]\n",
      " ['a1' 'b2' 0.18]\n",
      " ['a1' 'b3' 0.06]\n",
      " ['a2' 'b1' 0.14]\n",
      " ['a2' 'b2' 0.42]\n",
      " ['a2' 'b3' 0.14]]\n"
     ]
    }
   ],
   "source": [
    "import matplotlib.pyplot as plt\n",
    "import numpy as np\n",
    "import pandas as pd\n",
    "\n",
    "data = pd.read_csv(\"hw7_data.csv\") # 這次使用 pandas 的方式讀取 CSV\n",
    "#print(data)\n",
    "\n",
    "dataSet1 = data[[\"A\", \"B\", \"Pr(A,B)\"]].to_numpy() #變成 np.array 的形式\n",
    "#loc 與 iloc 差別在於 index 方式\n",
    "#產生出來的都還會是 dataframe，取 values 變成 np.array\n",
    "dataSet2 = data.loc[:, [\"A.1\", \"B.1\", \"Pr(A,B).1\"]].values \n",
    "dataSet3 = data.iloc[:, [6, 7, 8]].to_numpy()\n",
    "#[從第幾個開始拿 : 拿到第幾個停止]\n",
    "\n",
    "print(dataSet1)\n",
    "print(dataSet2)\n",
    "print(dataSet3)"
   ]
  },
  {
   "cell_type": "code",
   "execution_count": null,
   "metadata": {},
   "outputs": [],
   "source": []
  }
 ],
 "metadata": {
  "kernelspec": {
   "display_name": "Python 3",
   "language": "python",
   "name": "python3"
  },
  "language_info": {
   "codemirror_mode": {
    "name": "ipython",
    "version": 3
   },
   "file_extension": ".py",
   "mimetype": "text/x-python",
   "name": "python",
   "nbconvert_exporter": "python",
   "pygments_lexer": "ipython3",
   "version": "3.7.2"
  }
 },
 "nbformat": 4,
 "nbformat_minor": 2
}
