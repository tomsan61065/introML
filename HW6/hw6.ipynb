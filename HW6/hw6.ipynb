{
  "nbformat": 4,
  "nbformat_minor": 0,
  "metadata": {
    "colab": {
      "name": "hw6.ipynb",
      "version": "0.3.2",
      "provenance": []
    },
    "kernelspec": {
      "display_name": "Python 3",
      "language": "python",
      "name": "python3"
    }
  },
  "cells": [
    {
      "metadata": {
        "id": "lB8LwfrQmUFz",
        "colab_type": "code",
        "colab": {
          "base_uri": "https://localhost:8080/",
          "height": 224
        },
        "outputId": "fea75847-3fee-4ab4-fbc6-170160cf2e8c"
      },
      "cell_type": "code",
      "source": [
        "import numpy as np\n",
        "import pandas as pd\n",
        "import math\n",
        "\n",
        "# import data \n",
        "#https://towardsdatascience.com/3-ways-to-load-csv-files-into-colab-7c14fcbdcb92 \n",
        "#colabrate 要讀檔的方式\n",
        "url = \"https://raw.githubusercontent.com/tomsan61065/introML/master/HW6/hw6_data.csv\"\n",
        "data = pd.read_csv(url)\n",
        "print(data.head())\n",
        "#print(data)\n",
        "\n",
        "dict1 = {}\n",
        "#或是 dict1 = dict()\n",
        "\n",
        "#for element in data.to_numpy(): \n",
        "for element in data.values: #看來 google colab 不支援新版建議寫法\n",
        "#    print(element)\n",
        "    for i in range(4):\n",
        "        #print(element[i])\n",
        "        #print(dict1.get(element[i]))\n",
        "        if dict1.get(element[i]) == None:\n",
        "            dict1[element[i]] = 1\n",
        "        else:\n",
        "            dict1[element[i]] += 1\n",
        "            \n",
        "        if element[4] == \"GOOD\":\n",
        "            if dict1.get(element[i] + \"G\") == None:\n",
        "                dict1[element[i] + \"G\"] = 1\n",
        "            else:\n",
        "                dict1[element[i] + \"G\"] += 1\n",
        "        else:\n",
        "            if dict1.get(element[i] + \"G\") == None:\n",
        "                dict1[element[i] + \"G\"] = 0\n",
        "            \n",
        "          \n",
        "\n",
        "print(dict1)\n",
        "\n",
        "A1, A2, B1, B2 = dict1['A1'], dict1[\"A2\"], dict1[\"B1\"], dict1[\"B2\"]\n",
        "A1G, A2G, B1G, B2G = dict1[\"A1G\"], dict1[\"A2G\"], dict1[\"B1G\"], dict1[\"B2G\"]\n",
        "\n",
        "\n",
        "print(\"A1 & GOOD: %d, %d\" % (A1, A1G))\n",
        "print(\"A2 & GOOD: %d, %d\" % (A2, A2G))\n",
        "print(\"B1 & GOOD: %d, %d\" % (B1, B1G))\n",
        "print(\"B2 & GOOD: %d, %d\" % (B2, B2G))"
      ],
      "execution_count": 40,
      "outputs": [
        {
          "output_type": "stream",
          "text": [
            "    A   B   C   D Class\n",
            "0  A2  B2  C1  D1   BAD\n",
            "1  A2  B1  C5  D8  GOOD\n",
            "2  A2  B2  C3  D4   BAD\n",
            "3  A2  B2  C9  D1  GOOD\n",
            "4  A2  B1  C5  D8   BAD\n",
            "{'A2': 21, 'A2G': 11, 'B2': 9, 'B2G': 5, 'C1': 4, 'C1G': 0, 'D1': 5, 'D1G': 1, 'B1': 23, 'B1G': 8, 'C5': 4, 'C5G': 1, 'D8': 5, 'D8G': 3, 'C3': 2, 'C3G': 0, 'D4': 6, 'D4G': 2, 'C9': 4, 'C9G': 3, 'A1': 11, 'A1G': 2, 'C0': 1, 'C0G': 0, 'D5': 3, 'D5G': 0, 'C4': 3, 'C4G': 2, 'D6': 3, 'D6G': 2, 'C2': 4, 'C2G': 1, 'C7': 4, 'C7G': 3, 'C8': 3, 'C8G': 1, 'D2': 3, 'D2G': 0, 'C10': 1, 'C10G': 1, 'D10': 2, 'D10G': 2, 'D9': 1, 'D9G': 1, 'C6': 2, 'C6G': 1, 'D3': 3, 'D3G': 2, 'D0': 1, 'D0G': 0}\n",
            "A1 & GOOD: 11, 2\n",
            "A2 & GOOD: 21, 11\n",
            "B1 & GOOD: 23, 8\n",
            "B2 & GOOD: 9, 5\n"
          ],
          "name": "stdout"
        }
      ]
    },
    {
      "metadata": {
        "scrolled": true,
        "id": "Uot34fWUmUGA",
        "colab_type": "code",
        "colab": {
          "base_uri": "https://localhost:8080/",
          "height": 323
        },
        "outputId": "0076795f-697d-4f6a-f5be-c09d32ed57f5"
      },
      "cell_type": "code",
      "source": [
        "#def info(a, b):\n",
        "#    return a/(a+b) * -math.log(a/(a+b), 2) + b/(a+b) * -math.log(b/(a+b), 2)\n",
        " \n",
        "def info(arrayList):\n",
        "    total = sum(arrayList)\n",
        "    result = 0\n",
        "    for i in arrayList:\n",
        "        if i != 0:\n",
        "            result += i/total * -math.log(i/total, 2)\n",
        "    return result\n",
        "      \n",
        "\n",
        "infoOrigin = info([13, 19])\n",
        "print(\"info Origin: %.16f bits\\n\" % infoOrigin)\n",
        "\n",
        "infoA1 = info([A1G, A1 - A1G])\n",
        "print(infoA1)\n",
        "infoA2 = info([A2G, A2 - A2G])\n",
        "print(infoA2)\n",
        "infoA = A1/(A1+A2) * infoA1 + A2/(A1+A2) * infoA2\n",
        "infoAsplit = info([A1, A2])\n",
        "print(\"A info gain: %.16f bits\" % (infoOrigin - infoA))\n",
        "print(\"A gain ratio: %.16f bits\\n\" % ((infoOrigin - infoA)/infoAsplit))\n",
        "\n",
        "infoB1 = info([B1G, B1 - B1G])\n",
        "print(infoB1)\n",
        "infoB2 = info([B2G, B2 - B2G])\n",
        "print(infoB2)\n",
        "infoB = B1/(B1+B2) * infoB1 + B2/(B1+B2) * infoB2\n",
        "infoBsplit = info([B1, B2])\n",
        "print(\"B info gain: %.16f bits\" % (infoOrigin - infoB))\n",
        "print(\"B gain ratio: %.16f bits\\n\" % ((infoOrigin - infoB)/infoBsplit))\n",
        "\n",
        "infoC = 0\n",
        "Clist = []\n",
        "for i in range(11): #0~10\n",
        "    infoC += dict1[\"C\" + str(i)]/32 * info([ dict1[\"C\" + str(i) + \"G\"],(dict1[\"C\" + str(i)] - dict1[\"C\" + str(i) + \"G\"]) ])\n",
        "    Clist.append(dict1[\"C\" + str(i)])\n",
        "infoCsplit = info(Clist)    \n",
        "print(\"C info gain: %.16f bits\" % (infoOrigin - infoC))\n",
        "print(\"C gain ratio: %.16f bits\\n\" % ((infoOrigin - infoC)/infoCsplit))\n",
        "\n",
        "infoD = 0\n",
        "Dlist = []\n",
        "for i in range(11): #0~10\n",
        "    if dict1.get(\"D\" + str(i)) != None:\n",
        "        infoD += dict1[\"D\" + str(i)]/32 * info([ dict1[\"D\" + str(i) + \"G\"],(dict1[\"D\" + str(i)] - dict1[\"D\" + str(i) + \"G\"]) ])\n",
        "        Dlist.append(dict1[\"D\" + str(i)])\n",
        "infoDsplit = info(Dlist)\n",
        "print(\"D info gain: %.16f bits\" % (infoOrigin - infoD))\n",
        "print(\"D gain ratio: %.16f bits\\n\" % ((infoOrigin - infoD)/infoDsplit))\n"
      ],
      "execution_count": 50,
      "outputs": [
        {
          "output_type": "stream",
          "text": [
            "info Origin: 0.9744894033980523 bits\n",
            "\n",
            "0.6840384356390417\n",
            "0.9983636725938131\n",
            "A info gain: 0.0841750310074419 bits\n",
            "A gain ratio: 0.0906704760032884 bits\n",
            "\n",
            "0.9321115676166747\n",
            "0.9910760598382222\n",
            "B info gain: 0.0257940723440674 bits\n",
            "B gain ratio: 0.0300928884866840 bits\n",
            "\n",
            "C info gain: 0.3341698722832691 bits\n",
            "C gain ratio: 0.1004170656367672 bits\n",
            "\n",
            "D info gain: 0.3656161704179264 bits\n",
            "D gain ratio: 0.1167037881679921 bits\n",
            "\n"
          ],
          "name": "stdout"
        }
      ]
    }
  ]
}