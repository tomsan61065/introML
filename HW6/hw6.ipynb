{
 "cells": [
  {
   "cell_type": "code",
   "execution_count": 41,
   "metadata": {},
   "outputs": [
    {
     "name": "stdout",
     "output_type": "stream",
     "text": [
      "    A   B   C   D Class\n",
      "0  A2  B1  C5  D6  GOOD\n",
      "1  A2  B2  C6  D1  GOOD\n",
      "2  A2  B1  C0  D3   BAD\n",
      "3  A1  B2  C5  D4  GOOD\n",
      "4  A2  B2  C4  D8  GOOD\n",
      "A1 & GOOD: 6, 1\n",
      "A2 & GOOD: 26, 18\n",
      "B1 & GOOD: 17, 5\n",
      "B2 & GOOD: 15, 14\n"
     ]
    }
   ],
   "source": [
    "import numpy as np\n",
    "import pandas as pd\n",
    "import math\n",
    "\n",
    "# import data\n",
    "data = pd.read_csv(\"hw5-4_data.csv\")\n",
    "print(data.head())\n",
    "#print(data)\n",
    "\n",
    "A1, A2, B1, B2 = 0, 0, 0, 0\n",
    "A1G, A2G, B1G, B2G = 0, 0, 0, 0\n",
    "for element in data[[\"A\", \"B\", \"Class\"]].to_numpy():\n",
    "#    print(element)\n",
    "    if element[0] == \"A1\":\n",
    "        A1 += 1\n",
    "        if element[2] == \"GOOD\":\n",
    "            A1G += 1\n",
    "    elif element[0] == \"A2\":\n",
    "        A2 += 1\n",
    "        if element[2] == \"GOOD\":\n",
    "            A2G += 1\n",
    "    if element[1] == \"B1\":\n",
    "        B1 += 1\n",
    "        if element[2] == \"GOOD\":\n",
    "            B1G += 1\n",
    "    elif element[1] == \"B2\":\n",
    "        B2 += 1\n",
    "        if element[2] == \"GOOD\":\n",
    "            B2G += 1\n",
    "print(\"A1 & GOOD: %d, %d\" % (A1, A1G))\n",
    "print(\"A2 & GOOD: %d, %d\" % (A2, A2G))\n",
    "print(\"B1 & GOOD: %d, %d\" % (B1, B1G))\n",
    "print(\"B2 & GOOD: %d, %d\" % (B2, B2G))"
   ]
  },
  {
   "cell_type": "code",
   "execution_count": 59,
   "metadata": {
    "scrolled": true
   },
   "outputs": [
    {
     "name": "stdout",
     "output_type": "stream",
     "text": [
      "info Origin: 0.9744894033980523 bits\n",
      "\n",
      "0.6500224216483541\n",
      "0.8904916402194913\n",
      "A gain: 0.1290857416606492 bits\n",
      "\n",
      "0.8739810481273578\n",
      "0.35335933502142136\n",
      "B gain: 0.3445497832891022 bits\n"
     ]
    }
   ],
   "source": [
    "def info(a, b):\n",
    "    return a/(a+b) * -math.log(a/(a+b), 2) + b/(a+b) * -math.log(b/(a+b), 2)\n",
    "\n",
    "infoOrigin = info(19, 13)\n",
    "print(\"info Origin: %.16f bits\\n\" % infoOrigin)\n",
    "\n",
    "info_1_5 = info(1, 5)\n",
    "print(info_1_5)\n",
    "info_18_8 = info(18, 8)\n",
    "print(info_18_8)\n",
    "infoA = 6/32 * info_1_5 + 26/32 * info_18_8\n",
    "print(\"A gain: %.16f bits\\n\" % (infoOrigin - infoA))\n",
    "\n",
    "info_5_12 = info(5, 12)\n",
    "print(info_5_12)\n",
    "info_14_1 = info(14, 1)\n",
    "print(info_14_1)\n",
    "infoB = 17/32 * info_5_12 + 15/32 * info_14_1\n",
    "print(\"B gain: %.16f bits\" % (infoOrigin - infoB))"
   ]
  }
 ],
 "metadata": {
  "kernelspec": {
   "display_name": "Python 3",
   "language": "python",
   "name": "python3"
  },
  "language_info": {
   "codemirror_mode": {
    "name": "ipython",
    "version": 3
   },
   "file_extension": ".py",
   "mimetype": "text/x-python",
   "name": "python",
   "nbconvert_exporter": "python",
   "pygments_lexer": "ipython3",
   "version": "3.7.2"
  }
 },
 "nbformat": 4,
 "nbformat_minor": 1
}
