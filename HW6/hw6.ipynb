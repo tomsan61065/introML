{
  "nbformat": 4,
  "nbformat_minor": 0,
  "metadata": {
    "colab": {
      "name": "hw6.ipynb",
      "version": "0.3.2",
      "provenance": [],
      "include_colab_link": true
    },
    "kernelspec": {
      "display_name": "Python 3",
      "language": "python",
      "name": "python3"
    }
  },
  "cells": [
    {
      "cell_type": "markdown",
      "metadata": {
        "id": "view-in-github",
        "colab_type": "text"
      },
      "source": [
        "<a href=\"https://colab.research.google.com/github/tomsan61065/introML/blob/master/HW6/hw6.ipynb\" target=\"_parent\"><img src=\"https://colab.research.google.com/assets/colab-badge.svg\" alt=\"Open In Colab\"/></a>"
      ]
    },
    {
      "metadata": {
        "id": "lB8LwfrQmUFz",
        "colab_type": "code",
        "colab": {
          "base_uri": "https://localhost:8080/",
          "height": 187
        },
        "outputId": "eb1ec9a2-f083-4258-bc74-4a42ebea0f28"
      },
      "cell_type": "code",
      "source": [
        "import numpy as np\n",
        "import pandas as pd\n",
        "import math\n",
        "\n",
        "# import data \n",
        "#https://towardsdatascience.com/3-ways-to-load-csv-files-into-colab-7c14fcbdcb92 \n",
        "#colabrate 要讀檔的方式\n",
        "url = \"https://raw.githubusercontent.com/tomsan61065/introML/master/HW6/hw6_data.csv\"\n",
        "data = pd.read_csv(url)\n",
        "print(data.head())\n",
        "#print(data)\n",
        "\n",
        "\n",
        "A1, A2, B1, B2 = 0, 0, 0, 0\n",
        "A1G, A2G, B1G, B2G = 0, 0, 0, 0\n",
        "#for element in data[[\"A\", \"B\", \"Class\"]].to_numpy(): \n",
        "for element in data[[\"A\", \"B\", \"Class\"]].values: #看來 google colab 不支援新版建議寫法\n",
        "#    print(element)\n",
        "    if element[0] == \"A1\":\n",
        "        A1 += 1\n",
        "        if element[2] == \"GOOD\":\n",
        "            A1G += 1\n",
        "    elif element[0] == \"A2\":\n",
        "        A2 += 1\n",
        "        if element[2] == \"GOOD\":\n",
        "            A2G += 1\n",
        "    if element[1] == \"B1\":\n",
        "        B1 += 1\n",
        "        if element[2] == \"GOOD\":\n",
        "            B1G += 1\n",
        "    elif element[1] == \"B2\":\n",
        "        B2 += 1\n",
        "        if element[2] == \"GOOD\":\n",
        "            B2G += 1\n",
        "print(\"A1 & GOOD: %d, %d\" % (A1, A1G))\n",
        "print(\"A2 & GOOD: %d, %d\" % (A2, A2G))\n",
        "print(\"B1 & GOOD: %d, %d\" % (B1, B1G))\n",
        "print(\"B2 & GOOD: %d, %d\" % (B2, B2G))"
      ],
      "execution_count": 4,
      "outputs": [
        {
          "output_type": "stream",
          "text": [
            "    A   B   C   D Class\n",
            "0  A2  B2  C1  D1   BAD\n",
            "1  A2  B1  C5  D8  GOOD\n",
            "2  A2  B2  C3  D4   BAD\n",
            "3  A2  B2  C9  D1  GOOD\n",
            "4  A2  B1  C5  D8   BAD\n",
            "A1 & GOOD: 11, 2\n",
            "A2 & GOOD: 21, 11\n",
            "B1 & GOOD: 23, 8\n",
            "B2 & GOOD: 9, 5\n"
          ],
          "name": "stdout"
        }
      ]
    },
    {
      "metadata": {
        "scrolled": true,
        "id": "Uot34fWUmUGA",
        "colab_type": "code",
        "colab": {
          "base_uri": "https://localhost:8080/",
          "height": 170
        },
        "outputId": "5be3b6a5-fc14-4abb-bfb1-bef9b629e70c"
      },
      "cell_type": "code",
      "source": [
        "def info(a, b):\n",
        "    return a/(a+b) * -math.log(a/(a+b), 2) + b/(a+b) * -math.log(b/(a+b), 2)\n",
        "\n",
        "infoOrigin = info(19, 13)\n",
        "print(\"info Origin: %.16f bits\\n\" % infoOrigin)\n",
        "\n",
        "info_1_5 = info(1, 5)\n",
        "print(info_1_5)\n",
        "info_18_8 = info(18, 8)\n",
        "print(info_18_8)\n",
        "infoA = 6/32 * info_1_5 + 26/32 * info_18_8\n",
        "print(\"A gain: %.16f bits\\n\" % (infoOrigin - infoA))\n",
        "\n",
        "info_5_12 = info(5, 12)\n",
        "print(info_5_12)\n",
        "info_14_1 = info(14, 1)\n",
        "print(info_14_1)\n",
        "infoB = 17/32 * info_5_12 + 15/32 * info_14_1\n",
        "print(\"B gain: %.16f bits\" % (infoOrigin - infoB))"
      ],
      "execution_count": 5,
      "outputs": [
        {
          "output_type": "stream",
          "text": [
            "info Origin: 0.9744894033980523 bits\n",
            "\n",
            "0.6500224216483541\n",
            "0.8904916402194913\n",
            "A gain: 0.1290857416606492 bits\n",
            "\n",
            "0.8739810481273578\n",
            "0.35335933502142136\n",
            "B gain: 0.3445497832891022 bits\n"
          ],
          "name": "stdout"
        }
      ]
    }
  ]
}