{
 "cells": [
  {
   "cell_type": "code",
   "execution_count": 53,
   "metadata": {
    "colab": {
     "base_uri": "https://localhost:8080/",
     "height": 224
    },
    "colab_type": "code",
    "id": "lB8LwfrQmUFz",
    "outputId": "3de09757-6242-460c-db7c-e7c9e4212a91"
   },
   "outputs": [
    {
     "name": "stdout",
     "output_type": "stream",
     "text": [
      "    A   B   C   D Class\n",
      "0  A1  B2  C2  D3   BAD\n",
      "1  A2  B2  C5  D2   BAD\n",
      "2  A2  B1  C7  D2  GOOD\n",
      "3  A2  B1  C4  D2   BAD\n",
      "4  A2  B2  C9  D2  GOOD\n",
      "{'A1': 12, 'A1G': 2, 'B2': 9, 'B2G': 7, 'C2': 5, 'C2G': 2, 'D3': 1, 'D3G': 0, 'A2': 20, 'A2G': 11, 'C5': 3, 'C5G': 2, 'D2': 7, 'D2G': 3, 'B1': 23, 'B1G': 6, 'C7': 4, 'C7G': 2, 'C4': 3, 'C4G': 1, 'C9': 6, 'C9G': 4, 'C1': 2, 'C1G': 0, 'D6': 3, 'D6G': 1, 'D0': 3, 'D0G': 0, 'C10': 2, 'C10G': 0, 'D1': 3, 'D1G': 1, 'C8': 2, 'C8G': 1, 'D8': 5, 'D8G': 4, 'D4': 5, 'D4G': 2, 'D9': 1, 'D9G': 1, 'D7': 1, 'D7G': 1, 'C0': 2, 'C0G': 0, 'D5': 2, 'D5G': 0, 'C6': 2, 'C6G': 1, 'C3': 1, 'C3G': 0, 'D10': 1, 'D10G': 0}\n",
      "A1 & GOOD: 12, 2\n",
      "A2 & GOOD: 20, 11\n",
      "B1 & GOOD: 23, 6\n",
      "B2 & GOOD: 9, 7\n"
     ]
    }
   ],
   "source": [
    "import numpy as np\n",
    "import pandas as pd\n",
    "import math\n",
    "\n",
    "# import data \n",
    "#https://towardsdatascience.com/3-ways-to-load-csv-files-into-colab-7c14fcbdcb92 \n",
    "#colabrate 要讀檔的方式\n",
    "url = \"https://raw.githubusercontent.com/tomsan61065/introML/master/HW6/hw6_data.csv\"\n",
    "url2 = \"https://raw.githubusercontent.com/tomsan61065/introML/master/HW6/hw6_data2.csv\"\n",
    "#data = pd.read_csv(url)\n",
    "data = pd.read_csv(url2)\n",
    "print(data.head())\n",
    "#print(data)\n",
    "\n",
    "dict1 = {}\n",
    "#或是 dict1 = dict()\n",
    "\n",
    "#for element in data.to_numpy(): \n",
    "for element in data.values: #看來 google colab 不支援新版建議寫法\n",
    "#    print(element)\n",
    "    for i in range(4):\n",
    "        #print(element[i])\n",
    "        #print(dict1.get(element[i]))\n",
    "        if dict1.get(element[i]) == None:\n",
    "            dict1[element[i]] = 1\n",
    "        else:\n",
    "            dict1[element[i]] += 1\n",
    "            \n",
    "        if element[4] == \"GOOD\":\n",
    "            if dict1.get(element[i] + \"G\") == None:\n",
    "                dict1[element[i] + \"G\"] = 1\n",
    "            else:\n",
    "                dict1[element[i] + \"G\"] += 1\n",
    "        else:\n",
    "            if dict1.get(element[i] + \"G\") == None:\n",
    "                dict1[element[i] + \"G\"] = 0\n",
    "            \n",
    "          \n",
    "\n",
    "print(dict1)\n",
    "\n",
    "A1, A2, B1, B2 = dict1['A1'], dict1[\"A2\"], dict1[\"B1\"], dict1[\"B2\"]\n",
    "A1G, A2G, B1G, B2G = dict1[\"A1G\"], dict1[\"A2G\"], dict1[\"B1G\"], dict1[\"B2G\"]\n",
    "\n",
    "\n",
    "print(\"A1 & GOOD: %d, %d\" % (A1, A1G))\n",
    "print(\"A2 & GOOD: %d, %d\" % (A2, A2G))\n",
    "print(\"B1 & GOOD: %d, %d\" % (B1, B1G))\n",
    "print(\"B2 & GOOD: %d, %d\" % (B2, B2G))"
   ]
  },
  {
   "cell_type": "code",
   "execution_count": 55,
   "metadata": {
    "colab": {
     "base_uri": "https://localhost:8080/",
     "height": 255
    },
    "colab_type": "code",
    "id": "Uot34fWUmUGA",
    "outputId": "3993adbf-7a22-4824-c86c-6c6e78ca82dd",
    "scrolled": true
   },
   "outputs": [
    {
     "name": "stdout",
     "output_type": "stream",
     "text": [
      "info Origin: 0.9744894033980523 bits\n",
      "\n",
      "A info gain: 0.1102469615375393 bits\n",
      "A gain ratio: 0.1155103036979778 bits\n",
      "\n",
      "B info gain: 0.1643918333259844 bits\n",
      "B gain ratio: 0.1917892236019177 bits\n",
      "\n",
      "C info gain: 0.2284174352440769 bits\n",
      "C gain ratio: 0.0693679583683705 bits\n",
      "\n",
      "D info gain: 0.3222779845456506 bits\n",
      "D gain ratio: 0.1022449735496322 bits\n",
      "\n"
     ]
    }
   ],
   "source": [
    "#def info(a, b):\n",
    "#    return a/(a+b) * -math.log(a/(a+b), 2) + b/(a+b) * -math.log(b/(a+b), 2)\n",
    " \n",
    "def info(arrayList):\n",
    "    total = sum(arrayList)\n",
    "    result = 0\n",
    "    for i in arrayList:\n",
    "        if i != 0:\n",
    "            result += i/total * -math.log(i/total, 2)\n",
    "    return result\n",
    "      \n",
    "\n",
    "infoOrigin = info([13, 19])\n",
    "print(\"info Origin: %.16f bits\\n\" % infoOrigin)\n",
    "\n",
    "infoA1 = info([A1G, A1 - A1G])\n",
    "infoA2 = info([A2G, A2 - A2G])\n",
    "infoA = A1/(A1+A2) * infoA1 + A2/(A1+A2) * infoA2\n",
    "infoAsplit = info([A1, A2])\n",
    "print(\"A info gain: %.16f bits\" % (infoOrigin - infoA))\n",
    "print(\"A gain ratio: %.16f bits\\n\" % ((infoOrigin - infoA)/infoAsplit))\n",
    "\n",
    "infoB1 = info([B1G, B1 - B1G])\n",
    "infoB2 = info([B2G, B2 - B2G])\n",
    "infoB = B1/(B1+B2) * infoB1 + B2/(B1+B2) * infoB2\n",
    "infoBsplit = info([B1, B2])\n",
    "print(\"B info gain: %.16f bits\" % (infoOrigin - infoB))\n",
    "print(\"B gain ratio: %.16f bits\\n\" % ((infoOrigin - infoB)/infoBsplit))\n",
    "\n",
    "infoC = 0\n",
    "Clist = []\n",
    "for i in range(11): #0~10\n",
    "    infoC += dict1[\"C\" + str(i)]/32 * info([ dict1[\"C\" + str(i) + \"G\"],(dict1[\"C\" + str(i)] - dict1[\"C\" + str(i) + \"G\"]) ])\n",
    "    Clist.append(dict1[\"C\" + str(i)])\n",
    "infoCsplit = info(Clist)    \n",
    "print(\"C info gain: %.16f bits\" % (infoOrigin - infoC))\n",
    "print(\"C gain ratio: %.16f bits\\n\" % ((infoOrigin - infoC)/infoCsplit))\n",
    "\n",
    "infoD = 0\n",
    "Dlist = []\n",
    "for i in range(11): #0~10\n",
    "    if dict1.get(\"D\" + str(i)) != None:\n",
    "        infoD += dict1[\"D\" + str(i)]/32 * info([ dict1[\"D\" + str(i) + \"G\"],(dict1[\"D\" + str(i)] - dict1[\"D\" + str(i) + \"G\"]) ])\n",
    "        Dlist.append(dict1[\"D\" + str(i)])\n",
    "infoDsplit = info(Dlist)\n",
    "print(\"D info gain: %.16f bits\" % (infoOrigin - infoD))\n",
    "print(\"D gain ratio: %.16f bits\\n\" % ((infoOrigin - infoD)/infoDsplit))\n"
   ]
  }
 ],
 "metadata": {
  "colab": {
   "name": "hw6.ipynb",
   "provenance": [],
   "version": "0.3.2"
  },
  "kernelspec": {
   "display_name": "Python 3",
   "language": "python",
   "name": "python3"
  },
  "language_info": {
   "codemirror_mode": {
    "name": "ipython",
    "version": 3
   },
   "file_extension": ".py",
   "mimetype": "text/x-python",
   "name": "python",
   "nbconvert_exporter": "python",
   "pygments_lexer": "ipython3",
   "version": "3.7.2"
  }
 },
 "nbformat": 4,
 "nbformat_minor": 1
}
