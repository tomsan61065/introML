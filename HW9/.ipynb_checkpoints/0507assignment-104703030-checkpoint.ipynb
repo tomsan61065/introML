{
 "cells": [
  {
   "cell_type": "code",
   "execution_count": null,
   "metadata": {},
   "outputs": [],
   "source": [
    "import jieba\n",
    "import json\n",
    "from collections import Counter\n",
    "\n",
    "with open('./inverted_file.json',\"r\", encoding='utf-8') as f:\n",
    "\tinvert_file = json.load(f)\n"
   ]
  },
  {
   "cell_type": "code",
   "execution_count": null,
   "metadata": {},
   "outputs": [],
   "source": [
    "first = {}\n",
    "second = {}\n",
    "third = {}\n",
    "\n",
    "for document_count_dict in invert_file[\"同意\"]['docs']:\n",
    "    for doc, doc_tf in document_count_dict.items():\n",
    "        first[doc] = doc_tf * invert_file[\"同意\"]['idf']\n",
    "            \n",
    "\n",
    "for document_count_dict in invert_file[\"動物\"]['docs']:\n",
    "    for doc, doc_tf in document_count_dict.items():\n",
    "        second[doc] = doc_tf * invert_file[\"動物\"]['idf']\n",
    "        \n",
    "\n",
    "for document_count_dict in invert_file[\"實驗\"]['docs']:\n",
    "    for doc, doc_tf in document_count_dict.items():\n",
    "        third[doc] = doc_tf * invert_file[\"實驗\"]['idf']\n",
    "\n",
    "        \n",
    "print(len(first),len(second),len(third))"
   ]
  },
  {
   "cell_type": "code",
   "execution_count": null,
   "metadata": {},
   "outputs": [],
   "source": [
    "union  = list(set(first) & set(second) & set(third))\n",
    "scoretosort = {}\n",
    "\n",
    "for eachdoc in union:\n",
    "    scoretosort[eachdoc] = first[eachdoc] + second[eachdoc] + third[eachdoc]\n",
    "\n",
    "aftersort = sorted(scoretosort.items(), key = lambda x: x[1], reverse = True)\n",
    "\n",
    "aftersort"
   ]
  },
  {
   "cell_type": "code",
   "execution_count": null,
   "metadata": {},
   "outputs": [],
   "source": [
    "!jupyter nbconvert --to script aicup.basic.homework.may07.ipynb"
   ]
  }
 ],
 "metadata": {
  "kernelspec": {
   "display_name": "Python 3",
   "language": "python",
   "name": "python3"
  },
  "language_info": {
   "codemirror_mode": {
    "name": "ipython",
    "version": 3
   },
   "file_extension": ".py",
   "mimetype": "text/x-python",
   "name": "python",
   "nbconvert_exporter": "python",
   "pygments_lexer": "ipython3",
   "version": "3.7.2"
  }
 },
 "nbformat": 4,
 "nbformat_minor": 2
}
